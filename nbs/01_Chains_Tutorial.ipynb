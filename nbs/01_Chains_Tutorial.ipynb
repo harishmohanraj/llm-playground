{
 "cells": [
  {
   "cell_type": "code",
   "execution_count": null,
   "id": "d3a7fdff",
   "metadata": {},
   "outputs": [],
   "source": [
    "#| default_exp 01_chains_tutorial"
   ]
  },
  {
   "cell_type": "code",
   "execution_count": null,
   "id": "4d4b1e31",
   "metadata": {},
   "outputs": [],
   "source": [
    "# | export\n",
    "from langchain.llms import OpenAI\n",
    "\n",
    "from langchain.prompts import PromptTemplate\n",
    "from langchain.chains import LLMChain"
   ]
  },
  {
   "cell_type": "markdown",
   "id": "dd6777ef",
   "metadata": {},
   "source": [
    "## Simple Chain"
   ]
  },
  {
   "cell_type": "code",
   "execution_count": null,
   "id": "02850db9",
   "metadata": {},
   "outputs": [],
   "source": [
    "# | export\n",
    "\n",
    "def _get_llm_and_prompt():\n",
    "    llm = OpenAI(temperature=0.9)\n",
    "    prompt = PromptTemplate(\n",
    "        input_variables=[\"product\"],\n",
    "        template=\"What is a good name for a company that makes {product}?\",\n",
    "    )\n",
    "    return llm , prompt\n",
    "\n",
    "def llm_chain(user_input):\n",
    "    llm, prompt = _get_llm_and_prompt()\n",
    "    chain = LLMChain(llm=llm, prompt=prompt)\n",
    "    return chain.run(user_input)"
   ]
  },
  {
   "cell_type": "code",
   "execution_count": null,
   "id": "de90552d",
   "metadata": {},
   "outputs": [
    {
     "name": "stdout",
     "output_type": "stream",
     "text": [
      "\n",
      "\n",
      "Spectrum Autos.\n"
     ]
    }
   ],
   "source": [
    "print(llm_chain(\"colorful cars\"))"
   ]
  },
  {
   "cell_type": "markdown",
   "id": "7c0dbfaf",
   "metadata": {},
   "source": [
    "## You can use a chat model in an LLMChain as well:"
   ]
  },
  {
   "cell_type": "code",
   "execution_count": null,
   "id": "6e9461a9",
   "metadata": {},
   "outputs": [],
   "source": [
    "# | export\n",
    "\n",
    "from langchain.chat_models import ChatOpenAI\n",
    "from langchain.prompts.chat import (\n",
    "    ChatPromptTemplate,\n",
    "    HumanMessagePromptTemplate,\n",
    ")\n",
    "\n",
    "def _get_chat_llm_and_prompt():\n",
    "    llm = ChatOpenAI(temperature=0.9)\n",
    "    prompt = PromptTemplate(\n",
    "        input_variables=[\"product\"],\n",
    "        template=\"What is a good name for a company that makes {product}?\",\n",
    "    )\n",
    "    return llm , prompt\n",
    "\n",
    "def chat_llm_chain(user_input):\n",
    "    llm, prompt = _get_chat_llm_and_prompt()\n",
    "    human_message_prompt = HumanMessagePromptTemplate(prompt=prompt)\n",
    "    chat_prompt_template = ChatPromptTemplate.from_messages([human_message_prompt])\n",
    "    chain = LLMChain(llm=llm, prompt=chat_prompt_template)\n",
    "    return chain.run(user_input)"
   ]
  },
  {
   "cell_type": "code",
   "execution_count": null,
   "id": "62316be1",
   "metadata": {},
   "outputs": [
    {
     "name": "stdout",
     "output_type": "stream",
     "text": [
      "AeroAuto.\n"
     ]
    }
   ],
   "source": [
    "print(chat_llm_chain(\"flying cars\"))"
   ]
  },
  {
   "cell_type": "markdown",
   "id": "903686b4",
   "metadata": {},
   "source": [
    "### Combine chains with the SequentialChain\n",
    "\n",
    "- Execute their links in a predefined order\n",
    "- We will use the SimpleSequentialChain\n",
    "- Simplest type of a sequential chain, where each step has a single input/output, and the output of one step is the input to the next.\n",
    "\n",
    "    Below we will:\n",
    "\n",
    "        1) Create a company name for a product\n",
    "        2) Create a catchphrase for the product"
   ]
  },
  {
   "cell_type": "code",
   "execution_count": null,
   "id": "17c03c9f",
   "metadata": {},
   "outputs": [],
   "source": [
    "# | export\n",
    "\n",
    "from langchain.chains import SimpleSequentialChain\n",
    "\n",
    "def _get_first_chain():\n",
    "    llm = ChatOpenAI(temperature=0.9)\n",
    "    prompt = PromptTemplate(\n",
    "        input_variables=[\"product\"],\n",
    "        template=\"What is a good name for a company that makes {product}?\",\n",
    "    )\n",
    "    human_message_prompt = HumanMessagePromptTemplate(prompt=prompt)\n",
    "    chat_prompt_template = ChatPromptTemplate.from_messages([human_message_prompt])\n",
    "    chain = LLMChain(llm=llm, prompt=chat_prompt_template)\n",
    "    return chain\n",
    "    \n",
    "def _get_second_chain():\n",
    "    llm = ChatOpenAI(temperature=0.9)\n",
    "    prompt = PromptTemplate(\n",
    "        input_variables=[\"company_name\"],\n",
    "        template=\"Write a catchphrase with exactly 3 words for the following company: {company_name}?\",\n",
    "    )\n",
    "    human_message_prompt = HumanMessagePromptTemplate(prompt=prompt)\n",
    "    chat_prompt_template = ChatPromptTemplate.from_messages([human_message_prompt])\n",
    "    chain = LLMChain(llm=llm, prompt=chat_prompt_template)\n",
    "    return chain\n",
    "\n",
    "def simple_sequential_chain(text: str):\n",
    "    overall_chain = SimpleSequentialChain(chains=[_get_first_chain(), _get_second_chain()], verbose=True)\n",
    "    catchphrase = overall_chain.run(text)\n",
    "    return catchphrase"
   ]
  },
  {
   "cell_type": "code",
   "execution_count": null,
   "id": "9f595466",
   "metadata": {},
   "outputs": [
    {
     "name": "stdout",
     "output_type": "stream",
     "text": [
      "\n",
      "\n",
      "\u001b[1m> Entering new SimpleSequentialChain chain...\u001b[0m\n",
      "\u001b[36;1m\u001b[1;3mSkyVoyage\u001b[0m\n",
      "\u001b[33;1m\u001b[1;3m\"Expand your horizons.\"\u001b[0m\n",
      "\n",
      "\u001b[1m> Finished chain.\u001b[0m\n",
      "\"Expand your horizons.\"\n"
     ]
    }
   ],
   "source": [
    "print(simple_sequential_chain(\"flying ships\"))"
   ]
  },
  {
   "cell_type": "code",
   "execution_count": null,
   "id": "9dd0fb11",
   "metadata": {},
   "outputs": [],
   "source": []
  },
  {
   "cell_type": "code",
   "execution_count": null,
   "id": "ffb7de82",
   "metadata": {},
   "outputs": [],
   "source": []
  }
 ],
 "metadata": {
  "kernelspec": {
   "display_name": "llm-playground",
   "language": "python",
   "name": "llm-playground"
  }
 },
 "nbformat": 4,
 "nbformat_minor": 5
}
