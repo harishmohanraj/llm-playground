{
 "cells": [
  {
   "cell_type": "code",
   "execution_count": null,
   "id": "0a77db52",
   "metadata": {},
   "outputs": [],
   "source": [
    "#| default_exp 03_fastapi_streaming_tutorial"
   ]
  },
  {
   "cell_type": "code",
   "execution_count": null,
   "id": "177172e4",
   "metadata": {},
   "outputs": [],
   "source": [
    "# | export\n",
    "\n",
    "from functools import lru_cache\n",
    "from typing import Callable\n",
    "\n",
    "from fastapi import Depends, FastAPI\n",
    "from pydantic import BaseModel\n",
    "from langchain import ConversationChain\n",
    "from langchain.callbacks import AsyncCallbackManager\n",
    "from langchain.chat_models import ChatOpenAI\n",
    "\n",
    "from fastapi_async_langchain.response import LangchainStreamingResponse"
   ]
  },
  {
   "cell_type": "code",
   "execution_count": null,
   "id": "f0b10496",
   "metadata": {},
   "outputs": [],
   "source": [
    "# | export\n",
    "\n",
    "def conversation_chain_dependency() -> Callable[[], ConversationChain]:\n",
    "    @lru_cache(maxsize=1)\n",
    "    def dependency() -> ConversationChain:\n",
    "        return ConversationChain(\n",
    "            llm=ChatOpenAI(\n",
    "                temperature=0,\n",
    "                streaming=True,\n",
    "                callback_manager=AsyncCallbackManager([]),\n",
    "            ),\n",
    "            verbose=True,\n",
    "        )\n",
    "\n",
    "    return dependency\n",
    "\n",
    "conversation_chain = conversation_chain_dependency()"
   ]
  },
  {
   "cell_type": "code",
   "execution_count": null,
   "id": "71384463",
   "metadata": {},
   "outputs": [],
   "source": [
    "# | export\n",
    "\n",
    "app = FastAPI(title=\"StreamingConversationChainAPI\")"
   ]
  },
  {
   "cell_type": "code",
   "execution_count": null,
   "id": "01563f97",
   "metadata": {},
   "outputs": [],
   "source": [
    "# | export\n",
    "\n",
    "class Request(BaseModel):\n",
    "    query: str"
   ]
  },
  {
   "cell_type": "code",
   "execution_count": null,
   "id": "aebd3e2a",
   "metadata": {},
   "outputs": [],
   "source": [
    "# | export\n",
    "\n",
    "@app.post(\"/chat\")\n",
    "async def chat(\n",
    "    request: Request,\n",
    "    chain: ConversationChain = Depends(conversation_chain),\n",
    ") -> LangchainStreamingResponse:\n",
    "    return LangchainStreamingResponse(\n",
    "        chain, request.query, media_type=\"text/event-stream\"\n",
    "    )"
   ]
  },
  {
   "cell_type": "code",
   "execution_count": null,
   "id": "dbe04ba4",
   "metadata": {},
   "outputs": [],
   "source": []
  }
 ],
 "metadata": {
  "kernelspec": {
   "display_name": "llm-playground",
   "language": "python",
   "name": "llm-playground"
  }
 },
 "nbformat": 4,
 "nbformat_minor": 5
}
